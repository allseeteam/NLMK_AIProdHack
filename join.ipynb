{
 "cells": [
  {
   "cell_type": "code",
   "execution_count": 10,
   "metadata": {},
   "outputs": [],
   "source": [
    "import json\n",
    "import utils"
   ]
  },
  {
   "cell_type": "code",
   "execution_count": 11,
   "metadata": {},
   "outputs": [],
   "source": [
    "\n",
    "with open('output/summaries_google-api.json', 'r') as f:\n",
    "    summaries_1 = json.load(f)\n",
    "\n",
    "with open('output/summaries_newsapi.json', 'r') as f:\n",
    "    summaries_2 = json.load(f)\n",
    "\n",
    "summaries = summaries_1 + summaries_2\n",
    "\n",
    "with open('output/summaries_all.json', 'w') as f:\n",
    "    json.dump(summaries, f, indent=2, ensure_ascii=False)"
   ]
  },
  {
   "cell_type": "code",
   "execution_count": 12,
   "metadata": {},
   "outputs": [],
   "source": [
    "summaries = {s['url']: s for s in summaries}"
   ]
  },
  {
   "cell_type": "code",
   "execution_count": 24,
   "metadata": {},
   "outputs": [],
   "source": [
    "with open(\"output/urls_filtered.json\", \"r\") as f:\n",
    "    url_items = json.load(f)\n",
    "    \n",
    "url_items_1 = []\n",
    "for item in url_items:\n",
    "    item_meta = item['item']\n",
    "    date = utils.extract_date(item)\n",
    "    # date = utils.parse_date(date)\n",
    "    s = summaries.get(item['url'])\n",
    "    if s is None:\n",
    "        continue\n",
    "    metainfo = {\n",
    "        \"title\": s['title'],\n",
    "        \"category\": item['category'],\n",
    "        \"date\": date,\n",
    "        \"url\": item['url'],\n",
    "        \"answer\": s,\n",
    "        \"relevance\": s['relevance_score'],\n",
    "    }\n",
    "    url_items_1.append(metainfo)"
   ]
  },
  {
   "cell_type": "code",
   "execution_count": 25,
   "metadata": {},
   "outputs": [],
   "source": [
    "with open(\"output/urls_newsapi_filtered.json\", \"r\") as f:\n",
    "    url_items = json.load(f)\n",
    "\n",
    "url_items_2 = []\n",
    "for item in url_items:\n",
    "    date = item['publishedAt']\n",
    "    # date = utils.parse_date(date)\n",
    "    s = summaries.get(item['url'])\n",
    "    if s is None:\n",
    "        continue\n",
    "    metainfo = {\n",
    "        \"title\": s['title'],\n",
    "        \"category\": item['category'],\n",
    "        \"date\": date,\n",
    "        \"url\": item['url'],\n",
    "        \"answer\": s,\n",
    "        \"relevance\": s['relevance_score'],\n",
    "    }\n",
    "    url_items_2.append(metainfo)"
   ]
  },
  {
   "cell_type": "code",
   "execution_count": 26,
   "metadata": {},
   "outputs": [
    {
     "data": {
      "text/plain": [
       "(168, 77)"
      ]
     },
     "execution_count": 26,
     "metadata": {},
     "output_type": "execute_result"
    }
   ],
   "source": [
    "len(url_items_1), len(url_items_2)"
   ]
  },
  {
   "cell_type": "code",
   "execution_count": 27,
   "metadata": {},
   "outputs": [],
   "source": [
    "url_items_all = url_items_1 + url_items_2\n",
    "\n",
    "with open(\"output/url_items_all.json\", \"w\") as f:\n",
    "    json.dump(url_items_all, f, indent=2, ensure_ascii=False)"
   ]
  }
 ],
 "metadata": {
  "kernelspec": {
   "display_name": "Python 3",
   "language": "python",
   "name": "python3"
  },
  "language_info": {
   "codemirror_mode": {
    "name": "ipython",
    "version": 3
   },
   "file_extension": ".py",
   "mimetype": "text/x-python",
   "name": "python",
   "nbconvert_exporter": "python",
   "pygments_lexer": "ipython3",
   "version": "3.8.10"
  }
 },
 "nbformat": 4,
 "nbformat_minor": 2
}
