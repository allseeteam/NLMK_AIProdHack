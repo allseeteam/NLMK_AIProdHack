{
 "cells": [
  {
   "cell_type": "code",
   "execution_count": 1,
   "metadata": {},
   "outputs": [],
   "source": [
    "import json\n",
    "with open(\"queries/search_queries.json\", \"r\") as f:\n",
    "    queries = json.load(f)\n",
    "queries_all = [q for cat in queries for q in queries[cat]]"
   ]
  },
  {
   "cell_type": "code",
   "execution_count": 5,
   "metadata": {},
   "outputs": [],
   "source": [
    "from langchain_community.utilities import GoogleSearchAPIWrapper\n",
    "\n",
    "search = GoogleSearchAPIWrapper()\n",
    "r = search.results(queries_all[0], 10)"
   ]
  },
  {
   "cell_type": "code",
   "execution_count": 7,
   "metadata": {},
   "outputs": [
    {
     "data": {
      "text/plain": [
       "'Latest products in the steel industry'"
      ]
     },
     "execution_count": 7,
     "metadata": {},
     "output_type": "execute_result"
    }
   ],
   "source": [
    "queries_all[0]"
   ]
  },
  {
   "cell_type": "code",
   "execution_count": 6,
   "metadata": {},
   "outputs": [
    {
     "data": {
      "text/plain": [
       "[{'title': 'Biden Administration Announces New Measures to Protect US Steel ...',\n",
       "  'link': 'https://www.whitecase.com/insight-alert/biden-administration-announces-new-measures-protect-us-steel-aluminum-and',\n",
       "  'snippet': 'Apr 19, 2024 ... The ITC is conducting a study of greenhouse gas emissions at the product level for the steel and aluminum industries. USTR requested the study\\xa0...'},\n",
       " {'title': 'Steel industry under rising pressure to produce greener product ...',\n",
       "  'link': 'https://www.spglobal.com/marketintelligence/en/news-insights/latest-news-headlines/steel-industry-under-rising-pressure-to-produce-greener-product-63180156',\n",
       "  'snippet': 'Mar 16, 2021 ... Such a framework would impose fees on imported products based on their climate footprint. In its recent medium- to long-term management plan,\\xa0...'},\n",
       " {'title': 'FACT SHEET: President Biden Takes Action to Protect American ...',\n",
       "  'link': 'https://www.whitehouse.gov/briefing-room/statements-releases/2024/05/14/fact-sheet-president-biden-takes-action-to-protect-american-workers-and-businesses-from-chinas-unfair-trade-practices/',\n",
       "  'snippet': 'May 14, 2024 ... The tariff rate on certain steel and aluminum products under Section 301 will increase from 0–7.5% to 25% in 2024. Steel is a vital sector\\xa0...'},\n",
       " {'title': 'Shortfalls in Scrap Will Challenge the Steel Industry | BCG',\n",
       "  'link': 'https://www.bcg.com/publications/2024/shortfalls-in-scrap-will-challenge-steel-industry',\n",
       "  'snippet': 'Mar 12, 2024 ... ... steel, especially for large, durable products, such as automobiles and appliances, and for new construction. While EAF mini-mills have been\\xa0...'},\n",
       " {'title': 'Nucor | Home',\n",
       "  'link': 'http://nucor.com/',\n",
       "  'snippet': \"North America's most sustainable steel and steel products company. We are a team forged around a vision for leading our industry by providing unparalleled\\xa0...\"},\n",
       " {'title': 'End products of steel - Jernkontoret',\n",
       "  'link': 'https://www.jernkontoret.se/en/the-steel-industry/production-utilisation-recycling/end-products-of-steel/',\n",
       "  'snippet': 'This so-called manufacturing spans a wide area: from high-purity stainless steel tubing for the electronics industry, metal injection moulded safety components\\xa0...'},\n",
       " {'title': 'Steel tariffs hurt manufacturers downstream, data shows | PBS ...',\n",
       "  'link': 'https://www.pbs.org/newshour/economy/making-sense/steel-tariffs-hurt-manufacturers-downstream-data-shows',\n",
       "  'snippet': 'Feb 7, 2020 ... ... steel-production industry ... new technologies have allowed steel companies ... manufacturing industries that depend on steel as an input to\\xa0...'},\n",
       " {'title': 'Co-product position paper - worldsteel.org',\n",
       "  'link': 'https://worldsteel.org/publications/policy-papers/co-product-position-paper/',\n",
       "  'snippet': \"Over the past 20 years, the use of the steel industry's co-products has increased significantly ... Research into new applications of co-products would greatly\\xa0...\"},\n",
       " {'title': 'Reuse and Recycling of By-Products in the Steel Sector: Recent ...',\n",
       "  'link': 'https://www.mdpi.com/2075-4701/10/3/345',\n",
       "  'snippet': 'Steel slags mainly contain iron oxides that can be recycled by reduction methods and metallic iron can settle down to the bottom of the reactor. Recently, a re-\\xa0...'},\n",
       " {'title': 'Treasury Targets Iranian UAV Program, Steel Industry, and ...',\n",
       "  'link': 'https://home.treasury.gov/news/press-releases/jy2270',\n",
       "  'snippet': \"Apr 18, 2024 ... New Industries Targeted Generate Billions of Dollars in Annual Revenue. WASHINGTON — Today, in response to Iran's unprecedented attack on\\xa0...\"}]"
      ]
     },
     "execution_count": 6,
     "metadata": {},
     "output_type": "execute_result"
    }
   ],
   "source": [
    "r"
   ]
  },
  {
   "cell_type": "code",
   "execution_count": 5,
   "metadata": {},
   "outputs": [],
   "source": [
    "from googleapiclient.discovery import build\n",
    "\n",
    "service = build(\"customsearch\", \"v1\", developerKey=os.environ[\"GOOGLE_API_KEY\"])\n",
    "google_search = service.cse()"
   ]
  },
  {
   "cell_type": "code",
   "execution_count": 42,
   "metadata": {},
   "outputs": [],
   "source": [
    "# query = '\"AI trends\" (site:theverge.com OR site:techcrunch.com OR site:cio.com OR site:forbes.com OR site:venturebeat.com OR site:digitaltrends.com OR site:itprotoday.com OR site:computerworld.com OR site:zdnet.com OR site:bloomberg.com OR site:businessinsider.com OR site:edtechmagazine.com OR site:edsurge.com OR site:psfk.com OR site:springwise.com OR site:technode.com OR site:techeu.com OR site:wundermanthompson.com OR site:36kr.com) after:2024-06-01 before:2024-06-12'\n",
    "\n",
    "res = google_search.list(\n",
    "    q=\"fiction more:pagemap:document-keywords:fiction\",\n",
    "    cx=os.environ[\"GOOGLE_CSE_ID\"],\n",
    "    num=10,\n",
    "    hl=\"en\",\n",
    "    # cr=\"countryRU|countryUS\",\n",
    "    # lr=\"lang_ru|lang_en\",\n",
    "    # gl=\"ru\",\n",
    "    dateRestrict=\"w2\",\n",
    ").execute()"
   ]
  },
  {
   "cell_type": "code",
   "execution_count": 34,
   "metadata": {},
   "outputs": [],
   "source": [
    "def format_item(item: dict):\n",
    "    item.pop(\"kind\")\n",
    "    item.pop(\"htmlFormattedUrl\")\n",
    "    pagemap = item.get(\"pagemap\", {})\n",
    "    metatags = pagemap.get(\"metatags\", [])\n",
    "    item[\"metatags\"] = metatags\n",
    "    if pagemap:\n",
    "        item.pop(\"pagemap\")\n",
    "    return item\n",
    "\n",
    "\n",
    "res['items'] = [format_item(item) for item in res[\"items\"]]"
   ]
  },
  {
   "cell_type": "code",
   "execution_count": 43,
   "metadata": {},
   "outputs": [
    {
     "data": {
      "text/plain": [
       "{'kind': 'customsearch#search',\n",
       " 'url': {'type': 'application/json',\n",
       "  'template': 'https://www.googleapis.com/customsearch/v1?q={searchTerms}&num={count?}&start={startIndex?}&lr={language?}&safe={safe?}&cx={cx?}&sort={sort?}&filter={filter?}&gl={gl?}&cr={cr?}&googlehost={googleHost?}&c2coff={disableCnTwTranslation?}&hq={hq?}&hl={hl?}&siteSearch={siteSearch?}&siteSearchFilter={siteSearchFilter?}&exactTerms={exactTerms?}&excludeTerms={excludeTerms?}&linkSite={linkSite?}&orTerms={orTerms?}&dateRestrict={dateRestrict?}&lowRange={lowRange?}&highRange={highRange?}&searchType={searchType}&fileType={fileType?}&rights={rights?}&imgSize={imgSize?}&imgType={imgType?}&imgColorType={imgColorType?}&imgDominantColor={imgDominantColor?}&alt=json'},\n",
       " 'queries': {'request': [{'title': 'Google Custom Search - fiction more:pagemap:document-keywords:fiction',\n",
       "    'searchTerms': 'fiction more:pagemap:document-keywords:fiction',\n",
       "    'count': 10,\n",
       "    'startIndex': 1,\n",
       "    'inputEncoding': 'utf8',\n",
       "    'outputEncoding': 'utf8',\n",
       "    'safe': 'off',\n",
       "    'cx': '612b81666a0e747f9',\n",
       "    'hl': 'en',\n",
       "    'dateRestrict': 'w2'}]},\n",
       " 'context': {'title': 'NLMK-hack'},\n",
       " 'searchInformation': {'searchTime': 0.230983,\n",
       "  'formattedSearchTime': '0.23',\n",
       "  'totalResults': '0',\n",
       "  'formattedTotalResults': '0'}}"
      ]
     },
     "execution_count": 43,
     "metadata": {},
     "output_type": "execute_result"
    }
   ],
   "source": [
    "res"
   ]
  },
  {
   "cell_type": "code",
   "execution_count": 54,
   "metadata": {},
   "outputs": [
    {
     "data": {
      "text/plain": [
       "[{'Jun 4, 2024 ... Overview of current trends in the steel industry · Enhanced Energy Efficiency and Emission Reductions · Recycling and Environmental Stewardship · Innovations in\\xa0...',\n",
       "  'Steel Industry Trends 2024 - Federal Steel Supply',\n",
       "  'https://www.fedsteel.com/insights/emerging-trends-in-the-steel-industry-for-2024/'},\n",
       " {'1 day ago ... Where the steel community comes together Keeping a finger on the pulse of the flat-rolled steel market with the latest steel news, prices, and industry.',\n",
       "  'Steel Market Update: Home',\n",
       "  'https://www.steelmarketupdate.com/'},\n",
       " {'Jun 2, 2024 ... The modern steel industry is one of the largest manufacturing industries ... metal to create new steel. They can also be used ... products and cooking utensils.',\n",
       "  'Steel - Wikipedia',\n",
       "  'https://en.wikipedia.org/wiki/Steel'},\n",
       " {'3 days ago ... ... steel wire reinforcing products for concrete construction applications. We ... New York Stock Exchange under the symbol IIIN. NYSE: IIIN30.11. -0.39 ( -1.28% ).',\n",
       "  'Insteel Industries Inc. - Overview',\n",
       "  'https://insteel.com/home/default.aspx'},\n",
       " {'Jun 4, 2024 ... Steelmaking is the process of producing steel from iron ... In recent times, EAF steelmaking technology has ... steelmaking industry, which on the basic\\xa0...',\n",
       "  'Steelmaking - Wikipedia',\n",
       "  'https://en.wikipedia.org/wiki/Steelmaking'},\n",
       " {'3 days ago ... Latest News · Media Contacts · Jobs · Trainee Program · Find a Job ... Steel Production · Steel Casting · METEC 2019 · Our ... products in the lime industry.',\n",
       "  'RHI Magnesita | The driving force of the refractory industry',\n",
       "  'https://www.rhimagnesita.com/en/'},\n",
       " {'Experts Split on Impact to HVAC Industry by Tariff Hikes on Steel ...',\n",
       "  'May 31, 2024 ... While the ACCA “appreciate the efforts to prioritize products that are manufactured on American soil, these new tariffs will undoubtedly create additional cost\\xa0...',\n",
       "  'https://www.achrnews.com/articles/154637-experts-split-on-impact-to-hvac-industry-by-tariff-hikes-on-steel-aluminum-products-made-in-china'},\n",
       " {'6 days ago ... Globally, 219 kg of steel was used in new products per person in 2023. Crude steel production by process. In tonnes CO2 per tonnes of crude steel cast,\\xa0...',\n",
       "  'World Steel in Figures 2024 - worldsteel.org',\n",
       "  'https://worldsteel.org/data/world-steel-in-figures-2024/'},\n",
       " {'Green Steel World',\n",
       "  'Jun 1, 2024 ... Visitors can see and discuss the very latest projects, products and services available to decarbonise the steel industries and to reduce global CO₂ emissions.',\n",
       "  'https://greensteelworld.com/'},\n",
       " {'18 hours ago ... ... steelmaking plant in Syracuse, New York. One ... steel, as well as the finest customer service in the Specialty Steel Industry. ... Steel, and Valve Steel products.',\n",
       "  '::Crucible Industries:: Home :: You & Us',\n",
       "  'http://www.crucibleservice.com/'}]"
      ]
     },
     "execution_count": 54,
     "metadata": {},
     "output_type": "execute_result"
    }
   ],
   "source": [
    "[{r[\"title\"], r[\"link\"], r[\"snippet\"]} for r in res[\"items\"]]"
   ]
  },
  {
   "cell_type": "code",
   "execution_count": 57,
   "metadata": {},
   "outputs": [
    {
     "data": {
      "text/plain": [
       "'Jun 4, 2024 ... Overview of current trends in the steel industry · Enhanced Energy Efficiency and Emission Reductions · Recycling and Environmental Stewardship · Innovations in\\xa0...'"
      ]
     },
     "execution_count": 57,
     "metadata": {},
     "output_type": "execute_result"
    }
   ],
   "source": [
    "res[\"items\"][0][\"snippet\"]"
   ]
  }
 ],
 "metadata": {
  "kernelspec": {
   "display_name": "Python 3",
   "language": "python",
   "name": "python3"
  },
  "language_info": {
   "codemirror_mode": {
    "name": "ipython",
    "version": 3
   },
   "file_extension": ".py",
   "mimetype": "text/x-python",
   "name": "python",
   "nbconvert_exporter": "python",
   "pygments_lexer": "ipython3",
   "version": "3.10.12"
  }
 },
 "nbformat": 4,
 "nbformat_minor": 2
}
