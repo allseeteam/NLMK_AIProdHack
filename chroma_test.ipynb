{
 "cells": [
  {
   "cell_type": "code",
   "execution_count": 2,
   "metadata": {},
   "outputs": [],
   "source": [
    "# If python < 3.10:\n",
    "# !pip install pysqlite3-binary\n",
    "# __import__('pysqlite3')\n",
    "# import sys\n",
    "# sys.modules['sqlite3'] = sys.modules.pop('pysqlite3')"
   ]
  },
  {
   "cell_type": "code",
   "execution_count": 3,
   "metadata": {},
   "outputs": [],
   "source": [
    "import chromadb\n",
    "from chromadb.utils.embedding_functions import OpenAIEmbeddingFunction\n",
    "\n",
    "\n",
    "api_key = \"...\"\n",
    "model_name = \"text-embedding-3-small\"\n",
    "db_path = \"vectorstore\"\n",
    "\n",
    "\n",
    "client = chromadb.PersistentClient(path=db_path)\n",
    "\n",
    "embedding_fn = OpenAIEmbeddingFunction(\n",
    "    api_key=api_key,\n",
    "    model_name=model_name\n",
    ")\n",
    "\n",
    "collection = client.get_or_create_collection(\n",
    "    name=\"my_collection\",\n",
    "    embedding_function=embedding_fn,\n",
    "    metadata={\"hnsw:space\": \"cosine\"},\n",
    ")"
   ]
  },
  {
   "cell_type": "code",
   "execution_count": 4,
   "metadata": {},
   "outputs": [],
   "source": [
    "import json\n",
    "with open('articles.json', 'r') as f:\n",
    "    articles = json.load(f)"
   ]
  },
  {
   "cell_type": "code",
   "execution_count": 5,
   "metadata": {},
   "outputs": [],
   "source": [
    "texts = [article['title'] for article in articles]\n",
    "meta = [{'timestamp': article['date']} for article in articles]\n",
    "ids = [str(i) for i in range(len(articles))]\n",
    "\n",
    "collection.add(\n",
    "    ids,\n",
    "    metadatas=meta,\n",
    "    documents=texts\n",
    ")"
   ]
  },
  {
   "cell_type": "code",
   "execution_count": 8,
   "metadata": {},
   "outputs": [
    {
     "name": "stderr",
     "output_type": "stream",
     "text": [
      "Number of requested results 5 is greater than number of elements in index 4, updating n_results = 4\n"
     ]
    },
    {
     "data": {
      "text/plain": [
       "{'ids': [['3', '2', '0', '1']],\n",
       " 'distances': [[0.3533566369244252,\n",
       "   0.382343716566358,\n",
       "   0.792960077643678,\n",
       "   0.9688457418429988]],\n",
       " 'metadatas': [[{'timestamp': 1728154800},\n",
       "   {'timestamp': 1728154800},\n",
       "   {'timestamp': 1560519810},\n",
       "   {'timestamp': 1728154800}]],\n",
       " 'embeddings': None,\n",
       " 'documents': [['Apple Intelligence: ChatGPT coming to iPhones in AI overhaul',\n",
       "   'Introducing Apple Intelligence for iPhone, iPad, and Mac',\n",
       "   'Как искусственный интеллект применяется в металлургии',\n",
       "   'ПМЭФ-2024: Общий объем подписанных соглашений Самарской области превысил 100 млрд рублей']],\n",
       " 'uris': None,\n",
       " 'data': None}"
      ]
     },
     "execution_count": 8,
     "metadata": {},
     "output_type": "execute_result"
    }
   ],
   "source": [
    "collection.query(\n",
    "    query_texts=\"Apple AI\",\n",
    "    where={\"timestamp\": {\"$gt\": 1412137600}},\n",
    "    n_results=5\n",
    ")"
   ]
  },
  {
   "cell_type": "code",
   "execution_count": 7,
   "metadata": {},
   "outputs": [
    {
     "data": {
      "text/plain": [
       "4"
      ]
     },
     "execution_count": 7,
     "metadata": {},
     "output_type": "execute_result"
    }
   ],
   "source": [
    "collection.count()"
   ]
  },
  {
   "cell_type": "markdown",
   "metadata": {},
   "source": [
    "## Как работать с категориями"
   ]
  },
  {
   "cell_type": "code",
   "execution_count": 9,
   "metadata": {},
   "outputs": [],
   "source": [
    "import time\n",
    "\n",
    "collection.add(\n",
    "    [\"test_id\"],\n",
    "    metadatas=[{\n",
    "        \"timestamp\": int(time.time()),\n",
    "        \"relevancy\": 6,\n",
    "        \"cat1\": True,\n",
    "        \"cat2\": False,\n",
    "        \"cat3\": True,\n",
    "        }],\n",
    "    documents=[\"hello world!\"],\n",
    "    )"
   ]
  },
  {
   "cell_type": "code",
   "execution_count": 11,
   "metadata": {},
   "outputs": [
    {
     "data": {
      "text/plain": [
       "{'ids': ['test_id'],\n",
       " 'embeddings': None,\n",
       " 'metadatas': [{'cat1': True,\n",
       "   'cat2': False,\n",
       "   'cat3': True,\n",
       "   'relevancy': 6,\n",
       "   'timestamp': 1718126909}],\n",
       " 'documents': ['hello world!'],\n",
       " 'uris': None,\n",
       " 'data': None}"
      ]
     },
     "execution_count": 11,
     "metadata": {},
     "output_type": "execute_result"
    }
   ],
   "source": [
    "collection.get(\n",
    "    \"test_id\",\n",
    "    where={\"$and\": [\n",
    "            {\"relevancy\": {\"$gt\": 5}},\n",
    "            {\"cat1\": True},\n",
    "            {\"timestamp\": {\"$gt\": 1412137600}},\n",
    "            {\"timestamp\": {\"$lt\": 1812137600}},\n",
    "        ]}\n",
    "    )"
   ]
  }
 ],
 "metadata": {
  "kernelspec": {
   "display_name": "Python 3",
   "language": "python",
   "name": "python3"
  },
  "language_info": {
   "codemirror_mode": {
    "name": "ipython",
    "version": 3
   },
   "file_extension": ".py",
   "mimetype": "text/x-python",
   "name": "python",
   "nbconvert_exporter": "python",
   "pygments_lexer": "ipython3",
   "version": "3.8.10"
  }
 },
 "nbformat": 4,
 "nbformat_minor": 2
}
