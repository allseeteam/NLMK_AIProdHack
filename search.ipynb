{
 "cells": [
  {
   "cell_type": "code",
   "execution_count": 63,
   "metadata": {},
   "outputs": [],
   "source": [
    "from dotenv import load_dotenv\n",
    "from googleapiclient.discovery import build\n",
    "import os\n",
    "import json\n",
    "from collections import Counter\n",
    "\n",
    "load_dotenv(\".env\")\n",
    "\n",
    "os.makedirs(\"output\", exist_ok=True)"
   ]
  },
  {
   "cell_type": "code",
   "execution_count": 8,
   "metadata": {},
   "outputs": [],
   "source": [
    "with open(\"queries/search_queries.json\", \"r\") as f:\n",
    "    queries = json.load(f)\n",
    "queries_list = [{\"query\": q, \"category\": cat} for cat in queries for q in queries[cat]]"
   ]
  },
  {
   "cell_type": "code",
   "execution_count": 5,
   "metadata": {},
   "outputs": [],
   "source": [
    "service = build(\"customsearch\", \"v1\", developerKey=os.environ[\"GOOGLE_API_KEY\"])\n",
    "google_search = service.cse()"
   ]
  },
  {
   "cell_type": "code",
   "execution_count": 7,
   "metadata": {},
   "outputs": [],
   "source": [
    "def format_item(item: dict):\n",
    "    item.pop(\"kind\")\n",
    "    item.pop(\"htmlFormattedUrl\")\n",
    "    pagemap = item.get(\"pagemap\", {})\n",
    "    metatags = pagemap.get(\"metatags\", [])\n",
    "    item[\"metatags\"] = metatags\n",
    "    if pagemap:\n",
    "        item.pop(\"pagemap\")\n",
    "    return item"
   ]
  },
  {
   "cell_type": "code",
   "execution_count": 10,
   "metadata": {},
   "outputs": [
    {
     "name": "stdout",
     "output_type": "stream",
     "text": [
      "Searching for Latest products in the steel industry, 0/69\n",
      "Searching for New initiatives by leading steel companies, 1/69\n",
      "Searching for Competitor analysis steel industry, 2/69\n",
      "Searching for Innovations in steel production, 3/69\n",
      "Searching for New steel products market trends, 4/69\n",
      "Searching for Innovative data storage solutions for the steel industry, 5/69\n",
      "Searching for Data management trends in metallurgy, 6/69\n",
      "Searching for Best practices for data storage in manufacturing, 7/69\n",
      "Searching for Cloud solutions for steel manufacturing, 8/69\n",
      "Searching for Big data in steel industry, 9/69\n",
      "Searching for AI applications in steel industry, 10/69\n",
      "Searching for Artificial intelligence in metallurgy, 11/69\n",
      "Searching for Top startups in steel and metallurgy, 12/69\n",
      "Searching for Innovative AI solutions for manufacturing, 13/69\n",
      "Searching for Machine learning in steel production, 14/69\n",
      "Searching for New regulations in the steel industry, 15/69\n",
      "Searching for Legislative changes in metallurgy, 16/69\n",
      "Searching for Environmental regulations for steel manufacturers, 17/69\n",
      "Searching for Compliance requirements for steel industry, 18/69\n",
      "Searching for Industry standards updates for metallurgy, 19/69\n",
      "Searching for Steel industry conferences, 20/69\n",
      "Searching for Upcoming metallurgy events, 21/69\n",
      "Searching for Innovation summits in steel production, 22/69\n",
      "Searching for New discoveries in steel manufacturing, 23/69\n",
      "Searching for Global steel industry forums, 24/69\n",
      "Searching for Market trends in steel industry, 25/69\n",
      "Searching for Economic impact on steel manufacturing, 26/69\n",
      "Searching for Strategic developments in metallurgy, 27/69\n",
      "Searching for Geopolitical events affecting steel industry, 28/69\n",
      "Searching for Supply chain disruptions in steel industry, 29/69\n",
      "Searching for Smart factories in steel production, 30/69\n",
      "Searching for IoT applications in steel industry, 31/69\n",
      "Searching for Real-time monitoring in steel manufacturing, 32/69\n",
      "Searching for Machine learning in steel production, 33/69\n",
      "Searching for Lean manufacturing techniques in steel industry, 34/69\n",
      "Searching for Six Sigma in steel production, 35/69\n",
      "Searching for Automation in steel manufacturing, 36/69\n",
      "Searching for Waste reduction in steel industry, 37/69\n",
      "Searching for Energy-saving technologies in steel production, 38/69\n",
      "Searching for Heat recovery systems in steel industry, 39/69\n",
      "Searching for Renewable energy in steel manufacturing, 40/69\n",
      "Searching for Sustainable energy solutions for steel plants, 41/69\n",
      "Searching for 3D printing in steel industry, 42/69\n",
      "Searching for Additive manufacturing in steel production, 43/69\n",
      "Searching for High-precision steel components with 3D printing, 44/69\n",
      "Searching for Nanotechnology in steel production, 45/69\n",
      "Searching for Nano materials for steel industry, 46/69\n",
      "Searching for Advanced steel alloys with nanotechnology, 47/69\n",
      "Searching for Innovative steel alloys, 48/69\n",
      "Searching for High-strength steel alloys, 49/69\n",
      "Searching for Heat-resistant steel alloys, 50/69\n",
      "Searching for Smart coatings for steel, 51/69\n",
      "Searching for Self-healing coatings for steel products, 52/69\n",
      "Searching for Anti-corrosion coatings in steel industry, 53/69\n",
      "Searching for Digital sales platforms for steel industry, 54/69\n",
      "Searching for E-commerce in steel industry, 55/69\n",
      "Searching for CRM systems for steel manufacturers, 56/69\n",
      "Searching for Big Data analytics in steel industry, 57/69\n",
      "Searching for Demand forecasting in steel production, 58/69\n",
      "Searching for Supply chain optimization with Big Data, 59/69\n",
      "Searching for Blockchain in steel supply chain, 60/69\n",
      "Searching for Blockchain technology for steel industry transparency, 61/69\n",
      "Searching for Steel product tracking with blockchain, 62/69\n",
      "Searching for Green technologies in steel production, 63/69\n",
      "Searching for Carbon capture and storage in steel industry, 64/69\n",
      "Searching for Environmental impact reduction in steel manufacturing, 65/69\n",
      "Searching for Recycling in steel industry, 66/69\n",
      "Searching for Circular economy in steel production, 67/69\n",
      "Searching for Waste management in steel manufacturing, 68/69\n"
     ]
    }
   ],
   "source": [
    "url_items = []\n",
    "\n",
    "for i, query_d in enumerate(queries_list):\n",
    "    query = query_d[\"query\"]\n",
    "    category = query_d[\"category\"]\n",
    "    print(f\"Searching for {query}, {i}/{len(queries_list)}\")\n",
    "\n",
    "    res = google_search.list(\n",
    "        q=query,\n",
    "        cx=os.environ[\"GOOGLE_CSE_ID\"],\n",
    "        num=10,\n",
    "        hl=\"en\",\n",
    "        # cr=\"countryRU|countryUS\",\n",
    "        # lr=\"lang_ru|lang_en\",\n",
    "        # gl=\"ru\",\n",
    "        dateRestrict=\"w2\",\n",
    "    ).execute()\n",
    "\n",
    "    items = res.get(\"items\", [])\n",
    "    if len(items) == 0:\n",
    "        print(f\"No results for {query}\")\n",
    "        continue\n",
    "    for item in items:\n",
    "        item = format_item(item)\n",
    "        url_items.append({\n",
    "            \"url\": item[\"link\"],\n",
    "            \"query\": query,\n",
    "            \"category\": category,\n",
    "            \"item\": item,\n",
    "        })"
   ]
  },
  {
   "cell_type": "code",
   "execution_count": 13,
   "metadata": {},
   "outputs": [],
   "source": [
    "# Save URLs\n",
    "with open(\"output/urls.json\", \"w\") as f:\n",
    "    json.dump(url_items, f, indent=2, ensure_ascii=False)"
   ]
  },
  {
   "cell_type": "code",
   "execution_count": 17,
   "metadata": {},
   "outputs": [],
   "source": [
    "og_types = set()\n",
    "for url in url_items:\n",
    "    for mt in url[\"item\"][\"metatags\"]:\n",
    "        og_type = mt.get(\"og:type\")\n",
    "        if og_type:\n",
    "            og_types.add(og_type)"
   ]
  },
  {
   "cell_type": "code",
   "execution_count": 18,
   "metadata": {},
   "outputs": [
    {
     "data": {
      "text/plain": [
       "{'Article',\n",
       " 'Journal',\n",
       " 'Journal Issue',\n",
       " 'WebPage',\n",
       " 'Website',\n",
       " 'activity',\n",
       " 'article',\n",
       " 'articles',\n",
       " 'company',\n",
       " 'event_ticketing:event',\n",
       " 'king:photo',\n",
       " 'product',\n",
       " 'profile',\n",
       " 'video.other',\n",
       " 'website'}"
      ]
     },
     "execution_count": 18,
     "metadata": {},
     "output_type": "execute_result"
    }
   ],
   "source": [
    "og_types"
   ]
  },
  {
   "cell_type": "markdown",
   "metadata": {},
   "source": [
    "## Filter and Count Duplicates"
   ]
  },
  {
   "cell_type": "code",
   "execution_count": 58,
   "metadata": {},
   "outputs": [],
   "source": [
    "def filter_urls(urls):\n",
    "    # filter by og:type\n",
    "    urls_filtered = []\n",
    "    for url in urls:\n",
    "        for mt in url[\"item\"][\"metatags\"]:\n",
    "            og_type = mt.get(\"og:type\")\n",
    "            if og_type and og_type.lower().startswith(\"article\"):\n",
    "                urls_filtered.append(url)\n",
    "                break\n",
    "    return urls_filtered\n",
    "\n",
    "\n",
    "def deduplicate_urls(url_items):\n",
    "    urls_dedupl = {}\n",
    "\n",
    "    urls = [item['url'] for item in url_items]\n",
    "    counter = Counter(urls)\n",
    "    for item in url_items:\n",
    "        url = item['url']\n",
    "        if urls_dedupl.get(url):\n",
    "            continue\n",
    "        urls_dedupl[url] = item\n",
    "        urls_dedupl[url]['count'] = counter[url]\n",
    "\n",
    "    assert len(urls_dedupl) == len(counter)\n",
    "    return list(urls_dedupl.values())"
   ]
  },
  {
   "cell_type": "code",
   "execution_count": 24,
   "metadata": {},
   "outputs": [],
   "source": [
    "url_items = filter_urls(url_items)\n",
    "url_items = deduplicate_urls(url_items)\n",
    "\n",
    "with open(\"output/urls_filtered.json\", \"w\") as f:\n",
    "    json.dump(url_items, f, indent=2, ensure_ascii=False)"
   ]
  },
  {
   "cell_type": "code",
   "execution_count": 62,
   "metadata": {},
   "outputs": [
    {
     "data": {
      "text/plain": [
       "206"
      ]
     },
     "execution_count": 62,
     "metadata": {},
     "output_type": "execute_result"
    }
   ],
   "source": [
    "len(url_items)"
   ]
  }
 ],
 "metadata": {
  "kernelspec": {
   "display_name": "Python 3",
   "language": "python",
   "name": "python3"
  },
  "language_info": {
   "codemirror_mode": {
    "name": "ipython",
    "version": 3
   },
   "file_extension": ".py",
   "mimetype": "text/x-python",
   "name": "python",
   "nbconvert_exporter": "python",
   "pygments_lexer": "ipython3",
   "version": "3.10.12"
  }
 },
 "nbformat": 4,
 "nbformat_minor": 2
}
