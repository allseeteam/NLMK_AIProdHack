{
 "cells": [
  {
   "cell_type": "code",
   "execution_count": null,
   "metadata": {},
   "outputs": [],
   "source": [
    "from googlesearch import search\n",
    "\n",
    "# to search\n",
    "query = '\"AI trends\" (site:theverge.com OR site:techcrunch.com OR site:cio.com OR site:forbes.com OR site:venturebeat.com OR site:digitaltrends.com OR site:itprotoday.com OR site:computerworld.com OR site:zdnet.com OR site:bloomberg.com OR site:businessinsider.com OR site:edtechmagazine.com OR site:edsurge.com OR site:psfk.com OR site:springwise.com OR site:technode.com OR site:techeu.com OR site:wundermanthompson.com OR site:36kr.com) after:2024-06-01 before:2024-06-12'\n",
    "\n",
    "urls = []\n",
    "for url in search(query, tld=\"co.in\", num=10, stop=10, pause=2):\n",
    "    urls.append(url)"
   ]
  },
  {
   "cell_type": "code",
   "execution_count": null,
   "metadata": {},
   "outputs": [],
   "source": [
    "urls = '''https://www.forbes.com/sites/adrianbridgwater/2024/06/10/pega-opens-mind-to-left--right-brain-ai-development/\n",
    "https://www.forbes.com/sites/committeeof200/2024/06/04/ai-insights-for-executives-business-lessons-from-the-magnificent-7/\n",
    "https://www.itprotoday.com/ai-machine-learning/itpro-today-s-top-10-stories-about-ai-in-2022\n",
    "https://www.forbes.com/sites/lanceeliot/2024/06/04/the-nitty-gritty-about-that-latest-risk-of-ai-letter-and-a-vaunted-call-for-a-right-to-forewarn/\n",
    "https://www.businessinsider.com/retro-anti-instagram-app-built-by-ex-meta-staffers-2024-5\n",
    "https://www.itprotoday.com/regulatory-compliance/california-lawmaker-unveils-landmark-ai-bill\n",
    "https://www.forbes.com/sites/johnbuckingham/\n",
    "https://www.businessinsider.com/prime\n",
    "https://www.businessinsider.com/category/social-media\n",
    "https://www.businessinsider.com/category/instagram'''.split(\"\\n\")"
   ]
  },
  {
   "cell_type": "code",
   "execution_count": null,
   "metadata": {},
   "outputs": [],
   "source": [
    "from langchain_community.document_loaders import AsyncChromiumLoader, AsyncHtmlLoader\n",
    "from langchain_community.document_transformers import BeautifulSoupTransformer, Html2TextTransformer"
   ]
  },
  {
   "cell_type": "code",
   "execution_count": null,
   "metadata": {},
   "outputs": [],
   "source": []
  }
 ],
 "metadata": {
  "kernelspec": {
   "display_name": "Python 3",
   "language": "python",
   "name": "python3"
  },
  "language_info": {
   "codemirror_mode": {
    "name": "ipython",
    "version": 3
   },
   "file_extension": ".py",
   "mimetype": "text/x-python",
   "name": "python",
   "nbconvert_exporter": "python",
   "pygments_lexer": "ipython3",
   "version": "3.8.10"
  }
 },
 "nbformat": 4,
 "nbformat_minor": 2
}
